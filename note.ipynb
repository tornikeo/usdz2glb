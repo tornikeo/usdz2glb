{
 "cells": [
  {
   "cell_type": "code",
   "execution_count": 5,
   "metadata": {},
   "outputs": [
    {
     "name": "stdout",
     "output_type": "stream",
     "text": [
      "Data are loaded, start creating Blender stuff\n",
      "glTF import finished in 0.03s\n",
      "16:40:30 | ERROR: Draco mesh compression is not available because library could not be found at /workspaces/usdz2glb/3.5/python/lib/python3.10/site-packages/libextern_draco.so\n",
      "16:40:30 | INFO: Starting glTF 2.0 export\n",
      "16:40:30 | INFO: Extracting primitive: fox1\n",
      "16:40:30 | INFO: Primitives created: 1\n",
      "16:40:30 | INFO: Extracting primitive: fox1.001\n",
      "16:40:30 | INFO: Primitives created: 1\n",
      "16:40:30 | INFO: Extracting primitive: Cube\n",
      "16:40:30 | INFO: Primitives created: 1\n",
      "16:40:31 | INFO: Finished glTF 2.0 export in 0.7428765296936035 s\n",
      "\n"
     ]
    },
    {
     "data": {
      "text/plain": [
       "{'FINISHED'}"
      ]
     },
     "execution_count": 5,
     "metadata": {},
     "output_type": "execute_result"
    }
   ],
   "source": [
    "import bpy\n"
   ]
  },
  {
   "cell_type": "code",
   "execution_count": null,
   "metadata": {},
   "outputs": [],
   "source": []
  },
  {
   "cell_type": "code",
   "execution_count": 13,
   "metadata": {},
   "outputs": [
    {
     "name": "stdout",
     "output_type": "stream",
     "text": [
      "USD import of 'sneaker_airforce.usdz' took 70.3 ms\n"
     ]
    },
    {
     "data": {
      "text/plain": [
       "{'FINISHED'}"
      ]
     },
     "execution_count": 13,
     "metadata": {},
     "output_type": "execute_result"
    }
   ],
   "source": [
    "y = bpy.ops.export_scene.gltf"
   ]
  },
  {
   "cell_type": "code",
   "execution_count": 15,
   "metadata": {},
   "outputs": [
    {
     "name": "stdout",
     "output_type": "stream",
     "text": [
      "12:58:56 | ERROR: Draco mesh compression is not available because library could not be found at /home/tornikeo/Documents/work/young/usdz2glb/3.5/python/lib/python3.10/site-packages/libextern_draco.so\n",
      "12:58:56 | INFO: Starting glTF 2.0 export\n",
      "12:58:56 | INFO: Extracting primitive: Cube\n",
      "12:58:56 | INFO: Primitives created: 1\n",
      "12:58:56 | INFO: Extracting primitive: g0\n",
      "12:58:56 | INFO: Primitives created: 1\n",
      "12:58:57 | INFO: Extracting primitive: g0.001\n",
      "12:58:57 | INFO: Primitives created: 1\n",
      "12:58:57 | INFO: Finished glTF 2.0 export in 0.3814547061920166 s\n",
      "\n"
     ]
    },
    {
     "data": {
      "text/plain": [
       "{'FINISHED'}"
      ]
     },
     "execution_count": 15,
     "metadata": {},
     "output_type": "execute_result"
    }
   ],
   "source": []
  }
 ],
 "metadata": {
  "kernelspec": {
   "display_name": "usdz2glb",
   "language": "python",
   "name": "python3"
  },
  "language_info": {
   "codemirror_mode": {
    "name": "ipython",
    "version": 3
   },
   "file_extension": ".py",
   "mimetype": "text/x-python",
   "name": "python",
   "nbconvert_exporter": "python",
   "pygments_lexer": "ipython3",
   "version": "3.10.10"
  },
  "orig_nbformat": 4
 },
 "nbformat": 4,
 "nbformat_minor": 2
}
